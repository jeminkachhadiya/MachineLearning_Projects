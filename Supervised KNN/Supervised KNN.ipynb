{
 "cells": [
  {
   "cell_type": "code",
   "execution_count": 33,
   "id": "7b383764",
   "metadata": {},
   "outputs": [],
   "source": [
    "import pandas as pd\n",
    "import numpy as np\n",
    "import matplotlib.pyplot as plt\n",
    "from sklearn.utils import resample\n",
    "from sklearn.model_selection import train_test_split\n",
    "from sklearn.metrics import accuracy_score, precision_score, recall_score, f1_score, confusion_matrix, classification_report\n",
    "from sklearn import neighbors, linear_model, metrics"
   ]
  },
  {
   "cell_type": "markdown",
   "id": "1ccf35c1",
   "metadata": {},
   "source": [
    "### Creating data frame from the given dataset."
   ]
  },
  {
   "cell_type": "code",
   "execution_count": 34,
   "id": "9ca67fae",
   "metadata": {},
   "outputs": [
    {
     "data": {
      "text/html": [
       "<div>\n",
       "<style scoped>\n",
       "    .dataframe tbody tr th:only-of-type {\n",
       "        vertical-align: middle;\n",
       "    }\n",
       "\n",
       "    .dataframe tbody tr th {\n",
       "        vertical-align: top;\n",
       "    }\n",
       "\n",
       "    .dataframe thead th {\n",
       "        text-align: right;\n",
       "    }\n",
       "</style>\n",
       "<table border=\"1\" class=\"dataframe\">\n",
       "  <thead>\n",
       "    <tr style=\"text-align: right;\">\n",
       "      <th></th>\n",
       "      <th>4040 : hsa-miR-9-5p</th>\n",
       "      <th>4610 : hsa-miR-126-3p</th>\n",
       "      <th>4700 : hsa-miR-140-5p</th>\n",
       "      <th>5250 : hsa-miR-105-5p</th>\n",
       "      <th>6880 : hsa-miR-297</th>\n",
       "      <th>9938 : hsa-let-7i-5p</th>\n",
       "      <th>10138 : hsa-miR-130a-3p</th>\n",
       "      <th>10306 : hsa-miR-146b-5p</th>\n",
       "      <th>10901 : hsa_negative_control_6</th>\n",
       "      <th>10902 : hsa_negative_control_7</th>\n",
       "      <th>...</th>\n",
       "      <th>169411 : hsa-miR-205-3p</th>\n",
       "      <th>169412 : hsa-miR-1260a</th>\n",
       "      <th>169414 : hsa-miR-525-5p</th>\n",
       "      <th>169415 : hsa-miR-187-5p</th>\n",
       "      <th>169416 : hsa-miRPlus-A1086</th>\n",
       "      <th>169417 : hsa-miR-551b-5p</th>\n",
       "      <th>169419 : hsa-miR-300</th>\n",
       "      <th>169420 : hsa-miR-193b-5p</th>\n",
       "      <th>target</th>\n",
       "      <th>target_actual</th>\n",
       "    </tr>\n",
       "  </thead>\n",
       "  <tbody>\n",
       "    <tr>\n",
       "      <th>128</th>\n",
       "      <td>7.069042</td>\n",
       "      <td>6.928371</td>\n",
       "      <td>6.361283</td>\n",
       "      <td>6.419449</td>\n",
       "      <td>7.047141</td>\n",
       "      <td>7.177212</td>\n",
       "      <td>6.653090</td>\n",
       "      <td>6.749214</td>\n",
       "      <td>6.404046</td>\n",
       "      <td>6.188651</td>\n",
       "      <td>...</td>\n",
       "      <td>7.267664</td>\n",
       "      <td>7.730168</td>\n",
       "      <td>6.023850</td>\n",
       "      <td>5.820426</td>\n",
       "      <td>6.118422</td>\n",
       "      <td>6.035515</td>\n",
       "      <td>5.776698</td>\n",
       "      <td>6.312001</td>\n",
       "      <td>1</td>\n",
       "      <td>primary breast cancer</td>\n",
       "    </tr>\n",
       "    <tr>\n",
       "      <th>129</th>\n",
       "      <td>7.220528</td>\n",
       "      <td>7.135147</td>\n",
       "      <td>6.358755</td>\n",
       "      <td>6.525857</td>\n",
       "      <td>7.054967</td>\n",
       "      <td>7.533287</td>\n",
       "      <td>6.645902</td>\n",
       "      <td>6.825213</td>\n",
       "      <td>6.416208</td>\n",
       "      <td>6.219274</td>\n",
       "      <td>...</td>\n",
       "      <td>6.557431</td>\n",
       "      <td>7.997207</td>\n",
       "      <td>6.125245</td>\n",
       "      <td>5.822034</td>\n",
       "      <td>6.008232</td>\n",
       "      <td>6.000131</td>\n",
       "      <td>5.807077</td>\n",
       "      <td>6.336421</td>\n",
       "      <td>1</td>\n",
       "      <td>primary breast cancer</td>\n",
       "    </tr>\n",
       "    <tr>\n",
       "      <th>130</th>\n",
       "      <td>6.753913</td>\n",
       "      <td>6.634270</td>\n",
       "      <td>6.167049</td>\n",
       "      <td>6.404217</td>\n",
       "      <td>6.760727</td>\n",
       "      <td>6.811819</td>\n",
       "      <td>6.340138</td>\n",
       "      <td>6.595280</td>\n",
       "      <td>6.340526</td>\n",
       "      <td>6.124168</td>\n",
       "      <td>...</td>\n",
       "      <td>7.216755</td>\n",
       "      <td>6.498206</td>\n",
       "      <td>6.160170</td>\n",
       "      <td>5.833019</td>\n",
       "      <td>5.949871</td>\n",
       "      <td>6.577482</td>\n",
       "      <td>6.395739</td>\n",
       "      <td>6.546783</td>\n",
       "      <td>1</td>\n",
       "      <td>primary breast cancer</td>\n",
       "    </tr>\n",
       "    <tr>\n",
       "      <th>131</th>\n",
       "      <td>6.949213</td>\n",
       "      <td>8.136970</td>\n",
       "      <td>6.530446</td>\n",
       "      <td>6.340408</td>\n",
       "      <td>6.839192</td>\n",
       "      <td>7.641705</td>\n",
       "      <td>7.269473</td>\n",
       "      <td>6.743930</td>\n",
       "      <td>6.403648</td>\n",
       "      <td>6.189620</td>\n",
       "      <td>...</td>\n",
       "      <td>7.165452</td>\n",
       "      <td>6.852333</td>\n",
       "      <td>5.975425</td>\n",
       "      <td>6.035830</td>\n",
       "      <td>6.323667</td>\n",
       "      <td>6.424863</td>\n",
       "      <td>5.780869</td>\n",
       "      <td>6.318444</td>\n",
       "      <td>0</td>\n",
       "      <td>normal breast tissue</td>\n",
       "    </tr>\n",
       "    <tr>\n",
       "      <th>132</th>\n",
       "      <td>7.266969</td>\n",
       "      <td>7.864109</td>\n",
       "      <td>6.411671</td>\n",
       "      <td>6.510445</td>\n",
       "      <td>7.053551</td>\n",
       "      <td>7.967349</td>\n",
       "      <td>8.531716</td>\n",
       "      <td>7.375104</td>\n",
       "      <td>6.501873</td>\n",
       "      <td>6.269286</td>\n",
       "      <td>...</td>\n",
       "      <td>6.447885</td>\n",
       "      <td>7.613908</td>\n",
       "      <td>6.078980</td>\n",
       "      <td>5.831657</td>\n",
       "      <td>6.100722</td>\n",
       "      <td>5.912673</td>\n",
       "      <td>5.799223</td>\n",
       "      <td>6.348078</td>\n",
       "      <td>1</td>\n",
       "      <td>primary breast cancer</td>\n",
       "    </tr>\n",
       "  </tbody>\n",
       "</table>\n",
       "<p>5 rows × 1928 columns</p>\n",
       "</div>"
      ],
      "text/plain": [
       "     4040 : hsa-miR-9-5p  4610 : hsa-miR-126-3p  4700 : hsa-miR-140-5p  \\\n",
       "128             7.069042               6.928371               6.361283   \n",
       "129             7.220528               7.135147               6.358755   \n",
       "130             6.753913               6.634270               6.167049   \n",
       "131             6.949213               8.136970               6.530446   \n",
       "132             7.266969               7.864109               6.411671   \n",
       "\n",
       "     5250 : hsa-miR-105-5p  6880 : hsa-miR-297  9938 : hsa-let-7i-5p  \\\n",
       "128               6.419449            7.047141              7.177212   \n",
       "129               6.525857            7.054967              7.533287   \n",
       "130               6.404217            6.760727              6.811819   \n",
       "131               6.340408            6.839192              7.641705   \n",
       "132               6.510445            7.053551              7.967349   \n",
       "\n",
       "     10138 : hsa-miR-130a-3p  10306 : hsa-miR-146b-5p  \\\n",
       "128                 6.653090                 6.749214   \n",
       "129                 6.645902                 6.825213   \n",
       "130                 6.340138                 6.595280   \n",
       "131                 7.269473                 6.743930   \n",
       "132                 8.531716                 7.375104   \n",
       "\n",
       "     10901 : hsa_negative_control_6  10902 : hsa_negative_control_7  ...  \\\n",
       "128                        6.404046                        6.188651  ...   \n",
       "129                        6.416208                        6.219274  ...   \n",
       "130                        6.340526                        6.124168  ...   \n",
       "131                        6.403648                        6.189620  ...   \n",
       "132                        6.501873                        6.269286  ...   \n",
       "\n",
       "     169411 : hsa-miR-205-3p  169412 : hsa-miR-1260a  169414 : hsa-miR-525-5p  \\\n",
       "128                 7.267664                7.730168                 6.023850   \n",
       "129                 6.557431                7.997207                 6.125245   \n",
       "130                 7.216755                6.498206                 6.160170   \n",
       "131                 7.165452                6.852333                 5.975425   \n",
       "132                 6.447885                7.613908                 6.078980   \n",
       "\n",
       "     169415 : hsa-miR-187-5p  169416 : hsa-miRPlus-A1086  \\\n",
       "128                 5.820426                    6.118422   \n",
       "129                 5.822034                    6.008232   \n",
       "130                 5.833019                    5.949871   \n",
       "131                 6.035830                    6.323667   \n",
       "132                 5.831657                    6.100722   \n",
       "\n",
       "     169417 : hsa-miR-551b-5p  169419 : hsa-miR-300  169420 : hsa-miR-193b-5p  \\\n",
       "128                  6.035515              5.776698                  6.312001   \n",
       "129                  6.000131              5.807077                  6.336421   \n",
       "130                  6.577482              6.395739                  6.546783   \n",
       "131                  6.424863              5.780869                  6.318444   \n",
       "132                  5.912673              5.799223                  6.348078   \n",
       "\n",
       "     target          target_actual  \n",
       "128       1  primary breast cancer  \n",
       "129       1  primary breast cancer  \n",
       "130       1  primary breast cancer  \n",
       "131       0   normal breast tissue  \n",
       "132       1  primary breast cancer  \n",
       "\n",
       "[5 rows x 1928 columns]"
      ]
     },
     "execution_count": 34,
     "metadata": {},
     "output_type": "execute_result"
    }
   ],
   "source": [
    "df = pd.read_csv('GSE58606_data.csv')\n",
    "df.tail()"
   ]
  },
  {
   "cell_type": "markdown",
   "id": "9aaef267",
   "metadata": {},
   "source": [
    "## Data Analysis\n",
    "This dataset has total 1928 columns, In which 1926 columns has float64 datatype, 1 has int64 and another 1 with object datatype, along with 133 indices.<br>\n",
    "Here we have last 2 target columns which represents:<br>\n",
    "    1: 'primary breast cancer'<br>\n",
    "    0: 'normal breast tissue'"
   ]
  },
  {
   "cell_type": "code",
   "execution_count": 35,
   "id": "a9ce662e",
   "metadata": {},
   "outputs": [
    {
     "name": "stdout",
     "output_type": "stream",
     "text": [
      "<class 'pandas.core.frame.DataFrame'>\n",
      "RangeIndex: 133 entries, 0 to 132\n",
      "Columns: 1928 entries, 4040 : hsa-miR-9-5p to target_actual\n",
      "dtypes: float64(1926), int64(1), object(1)\n",
      "memory usage: 2.0+ MB\n"
     ]
    }
   ],
   "source": [
    "df.info()"
   ]
  },
  {
   "cell_type": "markdown",
   "id": "61ba5616",
   "metadata": {},
   "source": [
    "### Unbalanced dataset\n",
    "Here we have 122 positive sample while only 11 negative sample, which is consider as unbalanced dataset."
   ]
  },
  {
   "cell_type": "code",
   "execution_count": 36,
   "id": "d37f3285",
   "metadata": {},
   "outputs": [
    {
     "data": {
      "text/plain": [
       "1    122\n",
       "0     11\n",
       "Name: target, dtype: int64"
      ]
     },
     "execution_count": 36,
     "metadata": {},
     "output_type": "execute_result"
    }
   ],
   "source": [
    "df['target'].value_counts()"
   ]
  },
  {
   "cell_type": "markdown",
   "id": "96602065",
   "metadata": {},
   "source": [
    "We don't have any NA value in our dataset."
   ]
  },
  {
   "cell_type": "code",
   "execution_count": 37,
   "id": "9610da4b",
   "metadata": {},
   "outputs": [
    {
     "data": {
      "text/plain": [
       "0"
      ]
     },
     "execution_count": 37,
     "metadata": {},
     "output_type": "execute_result"
    }
   ],
   "source": [
    "sum(df.isnull().sum())"
   ]
  },
  {
   "cell_type": "markdown",
   "id": "35e03a66",
   "metadata": {},
   "source": [
    "### Normalization\n",
    "As per the above observation, we need to upsample the minority data in target column. With the help of the resample function we are generating the duplicate values where target columns has value '0'.<br>\n",
    "Now, we have equal samples for both 0 and 1, which is 122."
   ]
  },
  {
   "cell_type": "code",
   "execution_count": 38,
   "id": "38590e0c",
   "metadata": {},
   "outputs": [
    {
     "data": {
      "text/plain": [
       "0    122\n",
       "1    122\n",
       "Name: target, dtype: int64"
      ]
     },
     "execution_count": 38,
     "metadata": {},
     "output_type": "execute_result"
    }
   ],
   "source": [
    "df_majority = df[(df['target']==1)]\n",
    "df_minority = df[(df['target']==0)]\n",
    "df_minority_upsampled = resample(df_minority, replace=True, n_samples=122, random_state=7)\n",
    "df_upsampled = pd.concat([df_minority_upsampled, df_majority])\n",
    "df_upsampled['target'].value_counts()"
   ]
  },
  {
   "cell_type": "markdown",
   "id": "47973f1d",
   "metadata": {},
   "source": [
    "### Extracting features and targets\n",
    "<li>'target_actual' column is the categorical form of the 'target' column. So, we have to remove that as well from our feature dataset(X).</li>"
   ]
  },
  {
   "cell_type": "code",
   "execution_count": 39,
   "id": "038ef775",
   "metadata": {},
   "outputs": [],
   "source": [
    "X = df_upsampled.drop(columns=['target', 'target_actual'])\n",
    "y = df_upsampled['target']"
   ]
  },
  {
   "cell_type": "markdown",
   "id": "3e30c11c",
   "metadata": {},
   "source": [
    "### Splitting and Training the model\n",
    "Splitting the data into 75% of training samples and 25% of test samples and Train the model for 11 neighbors, Which gives the <b>97%</b> accuracy on out test samples.<br>\n",
    "Note:- I have choosed the <b>11</b> neighbours cause <b>large number</b> can add more confidence to predict the output and <b>odd number</b> avoids any ties between the 2 classes."
   ]
  },
  {
   "cell_type": "code",
   "execution_count": 40,
   "id": "50cd8a3b",
   "metadata": {},
   "outputs": [
    {
     "name": "stdout",
     "output_type": "stream",
     "text": [
      "KNN model accuracy for test set: 0.90\n"
     ]
    }
   ],
   "source": [
    "X_train, X_test, y_train, y_test = train_test_split(X, y, test_size=0.25, random_state=6)\n",
    "n_neighbors = 11\n",
    "knn = neighbors.KNeighborsClassifier(n_neighbors = n_neighbors)\n",
    "knn_model = knn.fit(X_train, y_train)\n",
    "print(f'KNN model accuracy for test set: {knn_model.score(X_test, y_test):.2f}')"
   ]
  },
  {
   "cell_type": "markdown",
   "id": "9d6fbc6e",
   "metadata": {},
   "source": [
    "<li>y_true represents the actual data. (dtype=dataframe)</li>\n",
    "<li>y_pred represents predicted data value based on X_test with help of knn_model. (dtype=array)</li>\n",
    "<li>y_pred_df: here we are converting the array to the dataframe to represent the comparision table and used 'index=' parameter to avoid the NAN value because of improper indexing. (dtype=dataframe)</li>"
   ]
  },
  {
   "cell_type": "code",
   "execution_count": 41,
   "id": "0882c69d",
   "metadata": {
    "scrolled": false
   },
   "outputs": [
    {
     "data": {
      "text/html": [
       "<div>\n",
       "<style scoped>\n",
       "    .dataframe tbody tr th:only-of-type {\n",
       "        vertical-align: middle;\n",
       "    }\n",
       "\n",
       "    .dataframe tbody tr th {\n",
       "        vertical-align: top;\n",
       "    }\n",
       "\n",
       "    .dataframe thead th {\n",
       "        text-align: right;\n",
       "    }\n",
       "</style>\n",
       "<table border=\"1\" class=\"dataframe\">\n",
       "  <thead>\n",
       "    <tr style=\"text-align: right;\">\n",
       "      <th></th>\n",
       "      <th>Actual</th>\n",
       "      <th>Prediction</th>\n",
       "    </tr>\n",
       "  </thead>\n",
       "  <tbody>\n",
       "    <tr>\n",
       "      <th>44</th>\n",
       "      <td>1</td>\n",
       "      <td>1</td>\n",
       "    </tr>\n",
       "    <tr>\n",
       "      <th>46</th>\n",
       "      <td>1</td>\n",
       "      <td>1</td>\n",
       "    </tr>\n",
       "    <tr>\n",
       "      <th>7</th>\n",
       "      <td>0</td>\n",
       "      <td>0</td>\n",
       "    </tr>\n",
       "    <tr>\n",
       "      <th>111</th>\n",
       "      <td>1</td>\n",
       "      <td>1</td>\n",
       "    </tr>\n",
       "    <tr>\n",
       "      <th>7</th>\n",
       "      <td>0</td>\n",
       "      <td>0</td>\n",
       "    </tr>\n",
       "    <tr>\n",
       "      <th>...</th>\n",
       "      <td>...</td>\n",
       "      <td>...</td>\n",
       "    </tr>\n",
       "    <tr>\n",
       "      <th>47</th>\n",
       "      <td>1</td>\n",
       "      <td>1</td>\n",
       "    </tr>\n",
       "    <tr>\n",
       "      <th>121</th>\n",
       "      <td>1</td>\n",
       "      <td>1</td>\n",
       "    </tr>\n",
       "    <tr>\n",
       "      <th>21</th>\n",
       "      <td>1</td>\n",
       "      <td>1</td>\n",
       "    </tr>\n",
       "    <tr>\n",
       "      <th>84</th>\n",
       "      <td>0</td>\n",
       "      <td>0</td>\n",
       "    </tr>\n",
       "    <tr>\n",
       "      <th>88</th>\n",
       "      <td>0</td>\n",
       "      <td>0</td>\n",
       "    </tr>\n",
       "  </tbody>\n",
       "</table>\n",
       "<p>61 rows × 2 columns</p>\n",
       "</div>"
      ],
      "text/plain": [
       "     Actual  Prediction\n",
       "44        1           1\n",
       "46        1           1\n",
       "7         0           0\n",
       "111       1           1\n",
       "7         0           0\n",
       "..      ...         ...\n",
       "47        1           1\n",
       "121       1           1\n",
       "21        1           1\n",
       "84        0           0\n",
       "88        0           0\n",
       "\n",
       "[61 rows x 2 columns]"
      ]
     },
     "execution_count": 41,
     "metadata": {},
     "output_type": "execute_result"
    }
   ],
   "source": [
    "y_true, y_pred = y_test, knn_model.predict(X_test)\n",
    "y_pred_df = pd.DataFrame(y_pred, columns=['Prediction'], index=X_test.index)\n",
    "df_compare = pd.concat([y_true, y_pred_df], axis=1)\n",
    "df_compare.rename(columns={\"target\":\"Actual\"}, inplace=True)\n",
    "df_compare"
   ]
  },
  {
   "cell_type": "markdown",
   "id": "d1662733",
   "metadata": {},
   "source": [
    "### Confusion Matrix\n",
    "Here, we have generated 2X2 matrix with below result using pandas crosstab function.\n",
    "<li>25: True Negative</li>\n",
    "<li>30: True Positive</li>\n",
    "<li>6: False Negative</li>\n",
    "<li>0: False Positive</li>"
   ]
  },
  {
   "cell_type": "code",
   "execution_count": 42,
   "id": "945fd5bb",
   "metadata": {},
   "outputs": [
    {
     "name": "stdout",
     "output_type": "stream",
     "text": [
      "Predicted   0   1\n",
      "Actual           \n",
      "0          25   6\n",
      "1           0  30\n",
      "\n",
      "tn:25, fp:0, fn:6, tp:30\n"
     ]
    }
   ],
   "source": [
    "# cm = confusion_matrix(y_true, y_pred)\n",
    "cm = pd.crosstab(df_compare['Actual'], df_compare['Prediction'], rownames=['Actual'], colnames=['Predicted'])\n",
    "print(cm)\n",
    "tn, fp, fn, tp = cm[0][0], cm[0][1], cm[1][0], cm[1][1]\n",
    "print(f\"\\ntn:{tn}, fp:{fp}, fn:{fn}, tp:{tp}\")"
   ]
  },
  {
   "cell_type": "markdown",
   "id": "30207586",
   "metadata": {},
   "source": [
    "The heatmap represents 2X2 confusion matrix of Actual and Predicted values by our model.\n",
    "where, <br>[0,0] = True Negative, <br>[0,1] = False Positive, <br>[1,0] = False Negative, <br>[1,1] = True Positive"
   ]
  },
  {
   "cell_type": "code",
   "execution_count": 43,
   "id": "f44cb8c3",
   "metadata": {},
   "outputs": [
    {
     "data": {
      "text/plain": [
       "<AxesSubplot:xlabel='Predicted', ylabel='Actual'>"
      ]
     },
     "execution_count": 43,
     "metadata": {},
     "output_type": "execute_result"
    },
    {
     "data": {
      "image/png": "[encoded data removed]",
      "text/plain": [
       "<Figure size 640x480 with 2 Axes>"
      ]
     },
     "metadata": {},
     "output_type": "display_data"
    }
   ],
   "source": [
    "import seaborn as sn\n",
    "sn.heatmap(cm, annot=True)\n",
    "# metrics.plot_confusion_matrix(knn_model, X, y)"
   ]
  },
  {
   "cell_type": "markdown",
   "id": "61cf0887",
   "metadata": {},
   "source": [
    "## Metrics\n",
    "Accuracy = (tp + tn)/(tp + tn + fp + fn)<br>\n",
    "recall (sensitivity) = tp/(tp + fn)<br>\n",
    "precision = tp/(tp + fp)<br>\n",
    "f1_score = 2\\*recall\\*precision/(recall + precision)\n",
    "<li>Recall measures the proportion of actual positive labels correctly identified by the model.</li>\n",
    "<li>Precision is defined as the proportion of correct positive predictions of all cases classified as positive.</li>\n",
    "<li>accuracy is defined as the proportion of correct predictions in all predictions made.</li>\n",
    "<li>F-measure is an evaluation metric for a classification defined as the harmonic mean of precision and recall. It is a statistical measure of the accuracy of a test or model.</li>\n",
    "<li>f1_score=1 represents the perfect accuracy of the model based on precision and recall.</li>"
   ]
  },
  {
   "cell_type": "code",
   "execution_count": 44,
   "id": "f0858a98",
   "metadata": {},
   "outputs": [
    {
     "name": "stdout",
     "output_type": "stream",
     "text": [
      " accuracy: 0.90 \n",
      " recall: 0.83 \n",
      " precision: 1.00 \n",
      " f1_score: 0.91\n",
      "              precision    recall  f1-score   support\n",
      "\n",
      "           0       1.00      0.81      0.89        31\n",
      "           1       0.83      1.00      0.91        30\n",
      "\n",
      "    accuracy                           0.90        61\n",
      "   macro avg       0.92      0.90      0.90        61\n",
      "weighted avg       0.92      0.90      0.90        61\n",
      "\n"
     ]
    }
   ],
   "source": [
    "# accuracy = accuracy_score(y_true, y_pred)\n",
    "# sensitivity = recall_score(y_true, y_pred)\n",
    "# precision = precision_score(y_true, y_pred)\n",
    "# f1score = f1_score(y_true, y_pred)\n",
    "accuracy = (tp + tn)/(tp + tn + fp + fn)\n",
    "recall = tp/(tp + fn)\n",
    "precision = tp/(tp + fp)\n",
    "f1_score = 2*recall*precision/(recall + precision)\n",
    "print(f' accuracy: {accuracy:.2f} \\n recall: {recall:.2f} \\n precision: {precision:.2f} \\n f1_score: {f1_score:.2f}' )\n",
    "print(classification_report(y_true, y_pred))"
   ]
  },
  {
   "cell_type": "markdown",
   "id": "0cdb11d4",
   "metadata": {},
   "source": [
    "## Experiment\n",
    "Here, I am trying to find the perfect fit for our K value. For that I have performed the cross validation for all the odd numbers between 1 and 51. And here I observe with increasing the counts 'K' the accuracy of knn is decreasing with some extance.\n",
    "A larger K value can make it high bias and computationally expensive while a small value can increase the effect of noise, so we need to choose a large enough k value which can produce better accuracy and that could be k=9 which can produce results with 96% accuracy.<br>\n",
    "By using 'cross_val_score' we can cross validate our training samples with k-fold, we have used cv=5 means it will randomize the sample in 5 different groups. by taking the average of that 5 values we can get average cross validation accuracy score for the perticular k value."
   ]
  },
  {
   "cell_type": "code",
   "execution_count": 46,
   "id": "788742ad",
   "metadata": {},
   "outputs": [
    {
     "name": "stdout",
     "output_type": "stream",
     "text": [
      "K_value_1: 0.99\n",
      "K_value_3: 0.98\n",
      "K_value_5: 0.98\n",
      "K_value_7: 0.98\n",
      "K_value_9: 0.96\n",
      "K_value_11: 0.94\n",
      "K_value_13: 0.92\n",
      "K_value_15: 0.89\n",
      "K_value_17: 0.87\n",
      "K_value_19: 0.86\n",
      "K_value_21: 0.87\n",
      "K_value_23: 0.85\n",
      "K_value_25: 0.84\n",
      "K_value_27: 0.82\n",
      "K_value_29: 0.80\n",
      "K_value_31: 0.79\n",
      "K_value_33: 0.79\n",
      "K_value_35: 0.78\n",
      "K_value_37: 0.77\n",
      "K_value_39: 0.77\n",
      "K_value_41: 0.77\n",
      "K_value_43: 0.76\n",
      "K_value_45: 0.76\n",
      "K_value_47: 0.76\n",
      "K_value_49: 0.75\n"
     ]
    }
   ],
   "source": [
    "from sklearn.model_selection import cross_val_score\n",
    "cv_scores = dict()\n",
    "for k in range(1,51,2):\n",
    "    knn = neighbors.KNeighborsClassifier(n_neighbors=k)\n",
    "    scores = cross_val_score(knn, X, y, cv=5, scoring='accuracy')\n",
    "    cv_scores[k]=(np.mean(scores))\n",
    "k_accuracy = [f\"K_value_{x}: {y:.2f}\" for x, y in cv_scores.items()]\n",
    "for i in k_accuracy:\n",
    "    print(i)\n",
    "\n",
    "# knn = neighbors.KNeighborsClassifier(n_neighbors=105)\n",
    "# scores = cross_val_score(knn, X, y, cv=5, scoring='accuracy')\n",
    "# np.mean(scores)"
   ]
  }
 ],
 "metadata": {
  "kernelspec": {
   "display_name": "Python 3 (ipykernel)",
   "language": "python",
   "name": "python3"
  },
  "language_info": {
   "codemirror_mode": {
    "name": "ipython",
    "version": 3
   },
   "file_extension": ".py",
   "mimetype": "text/x-python",
   "name": "python",
   "nbconvert_exporter": "python",
   "pygments_lexer": "ipython3",
   "version": "3.10.5"
  }
 },
 "nbformat": 4,
 "nbformat_minor": 5
}
