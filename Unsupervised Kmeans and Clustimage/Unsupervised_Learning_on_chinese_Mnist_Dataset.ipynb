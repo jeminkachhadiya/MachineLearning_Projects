{
 "cells": [
  {
   "cell_type": "code",
   "execution_count": 32,
   "id": "f20cf775",
   "metadata": {},
   "outputs": [],
   "source": [
    "import numpy as np\n",
    "import pandas as pd\n",
    "import matplotlib.pyplot as plt\n",
    "from clustimage import Clustimage\n",
    "from sklearn.cluster import KMeans, MiniBatchKMeans\n",
    "from sklearn.model_selection import train_test_split\n",
    "import cv2\n",
    "from sklearn.preprocessing import scale\n",
    "from sklearn.metrics import silhouette_score"
   ]
  },
  {
   "cell_type": "markdown",
   "id": "3b8447ac",
   "metadata": {},
   "source": [
    "### Data Analysis\n",
    "Reading csv file to create a image file path and the check the number of possible unique cluster."
   ]
  },
  {
   "cell_type": "code",
   "execution_count": 3,
   "id": "6613e801",
   "metadata": {},
   "outputs": [
    {
     "data": {
      "text/html": [
       "<div>\n",
       "<style scoped>\n",
       "    .dataframe tbody tr th:only-of-type {\n",
       "        vertical-align: middle;\n",
       "    }\n",
       "\n",
       "    .dataframe tbody tr th {\n",
       "        vertical-align: top;\n",
       "    }\n",
       "\n",
       "    .dataframe thead th {\n",
       "        text-align: right;\n",
       "    }\n",
       "</style>\n",
       "<table border=\"1\" class=\"dataframe\">\n",
       "  <thead>\n",
       "    <tr style=\"text-align: right;\">\n",
       "      <th></th>\n",
       "      <th>suite_id</th>\n",
       "      <th>sample_id</th>\n",
       "      <th>code</th>\n",
       "      <th>value</th>\n",
       "      <th>character</th>\n",
       "    </tr>\n",
       "  </thead>\n",
       "  <tbody>\n",
       "    <tr>\n",
       "      <th>0</th>\n",
       "      <td>1</td>\n",
       "      <td>1</td>\n",
       "      <td>10</td>\n",
       "      <td>9</td>\n",
       "      <td>九</td>\n",
       "    </tr>\n",
       "    <tr>\n",
       "      <th>1</th>\n",
       "      <td>1</td>\n",
       "      <td>10</td>\n",
       "      <td>10</td>\n",
       "      <td>9</td>\n",
       "      <td>九</td>\n",
       "    </tr>\n",
       "    <tr>\n",
       "      <th>2</th>\n",
       "      <td>1</td>\n",
       "      <td>2</td>\n",
       "      <td>10</td>\n",
       "      <td>9</td>\n",
       "      <td>九</td>\n",
       "    </tr>\n",
       "    <tr>\n",
       "      <th>3</th>\n",
       "      <td>1</td>\n",
       "      <td>3</td>\n",
       "      <td>10</td>\n",
       "      <td>9</td>\n",
       "      <td>九</td>\n",
       "    </tr>\n",
       "    <tr>\n",
       "      <th>4</th>\n",
       "      <td>1</td>\n",
       "      <td>4</td>\n",
       "      <td>10</td>\n",
       "      <td>9</td>\n",
       "      <td>九</td>\n",
       "    </tr>\n",
       "  </tbody>\n",
       "</table>\n",
       "</div>"
      ],
      "text/plain": [
       "   suite_id  sample_id  code  value character\n",
       "0         1          1    10      9         九\n",
       "1         1         10    10      9         九\n",
       "2         1          2    10      9         九\n",
       "3         1          3    10      9         九\n",
       "4         1          4    10      9         九"
      ]
     },
     "execution_count": 3,
     "metadata": {},
     "output_type": "execute_result"
    }
   ],
   "source": [
    "df = pd.read_csv('chinese_mnist.csv')\n",
    "df.head()"
   ]
  },
  {
   "cell_type": "markdown",
   "id": "c026b66b",
   "metadata": {},
   "source": [
    "Here we are finding the unique values and storing the suite_id, sample_id and code in index object to create a image path. I have observe in image name starts with 'input' and then there is underscore saperated suite_id, sample_id and code, which represents the value.<br>\n",
    "Here we can see that our dataset has 15 unique values, we should be able to design a model which can give us 15 different clusters."
   ]
  },
  {
   "cell_type": "code",
   "execution_count": 15,
   "id": "fd818759",
   "metadata": {},
   "outputs": [
    {
     "name": "stdout",
     "output_type": "stream",
     "text": [
      "Total Unique values: 15\n"
     ]
    }
   ],
   "source": [
    "index = df.iloc[:,:-2].values \n",
    "value = df[\"code\"].values\n",
    "unique_values = len(np.unique(value))\n",
    "print(f\"Total Unique values: {unique_values}\")"
   ]
  },
  {
   "cell_type": "code",
   "execution_count": 5,
   "id": "5f51a7f2",
   "metadata": {},
   "outputs": [
    {
     "name": "stdout",
     "output_type": "stream",
     "text": [
      "(15000, 3)\n",
      "15000\n"
     ]
    }
   ],
   "source": [
    "print(index.shape)\n",
    "print(len(value))"
   ]
  },
  {
   "cell_type": "markdown",
   "id": "999b4c24",
   "metadata": {},
   "source": [
    "Here I am creating relative image path with help of 'index' object and storing the image data into listImageArray list by converting the image from color to gray scale. we have image lable data in the filename_label_link dictionary."
   ]
  },
  {
   "cell_type": "code",
   "execution_count": 6,
   "id": "1e9bae65",
   "metadata": {},
   "outputs": [],
   "source": [
    "filename_label_link = {}\n",
    "\n",
    "filename_list = []\n",
    "label_list = []\n",
    "listImageArray = []\n",
    "listImageNameArray = [] \n",
    "for i in range(0,len(value)):\n",
    "    codeImage= index[i]\n",
    "    filename = f\"input_{codeImage[0]}_{codeImage[1]}_{codeImage[2]}.jpg\"\n",
    "#     print(filename)\n",
    "    val = value[i] \n",
    "    filename_label_link[filename] = val\n",
    "    filename_list.append(filename)\n",
    "    label_list.append(val)\n",
    "    a = cv2.imread(f\"data/{filename}\", cv2.COLOR_BGR2RGB)\n",
    "    listImageArray.append(a)\n",
    "    listImageNameArray.append(val)"
   ]
  },
  {
   "cell_type": "markdown",
   "id": "18dea32f",
   "metadata": {},
   "source": [
    "Here we can see that our listImageArray has 15000 samples and each sample size is 64X64 pixels. To train a model we have to reduce the dimesionality of the image and we can achieve that by flattening the image."
   ]
  },
  {
   "cell_type": "code",
   "execution_count": 7,
   "id": "013c80aa",
   "metadata": {},
   "outputs": [
    {
     "name": "stdout",
     "output_type": "stream",
     "text": [
      "(15000, 64, 64)\n",
      "(15000,)\n"
     ]
    }
   ],
   "source": [
    "listImageArray = np.array(listImageArray)\n",
    "listImageNameArray = np.array(listImageNameArray)\n",
    "print(listImageArray.shape)\n",
    "print(listImageNameArray.shape)"
   ]
  },
  {
   "cell_type": "markdown",
   "id": "98a5ee0a",
   "metadata": {},
   "source": [
    "In order to get flatten image we have used flatten() method and normalize the pixel value by dividing it to 255. Now we get the flatten image by arranging all the 64X64 pixels from 2D to 1D array with 15000 sample and each sample has 4096 pixels."
   ]
  },
  {
   "cell_type": "code",
   "execution_count": 12,
   "id": "0ed1f6ce",
   "metadata": {},
   "outputs": [
    {
     "name": "stdout",
     "output_type": "stream",
     "text": [
      "Before flatten: (15000, 64, 64)\n",
      "After flatten: (15000, 4096)\n"
     ]
    }
   ],
   "source": [
    "print(\"Before flatten:\",listImageArray.shape)\n",
    "\n",
    "listFlattened = []\n",
    "\n",
    "for i in range(len(listImageArray)):\n",
    "    listFlattened.append(listImageArray[i].flatten()/255)\n",
    "\n",
    "listFlattened = np.array(listFlattened)\n",
    "listFlattenedScale = scale(listFlattened)\n",
    "\n",
    "print(\"After flatten:\", listFlattenedScale.shape)"
   ]
  },
  {
   "cell_type": "markdown",
   "id": "6d275200",
   "metadata": {},
   "source": [
    "Here, We are trying to fit our model by measuring the silhouette score on different number of cluster values, and we can observe that n_clusters=12 has the highest silhouette score which is 0.56 but if we look at the elbow method then as per the graph we can't predict the possible number of clusters as data is not very clustered. so in this case it's better to use silhoette score instead of elbow method.\n",
    "Silhoette Score:- It is a measure of how similar an object is to its own cluster compared to other clusters it ranges from -1 to 1.<br>\n",
    "<li>1: Means clusters are well apart from each other and clearly distinguished.</li><li>0: Means clusters are indifferent, or we can say that the distance between clusters is not significant.</li><li>-1: Means clusters are assigned in the wrong way.</li>\n",
    "\n"
   ]
  },
  {
   "cell_type": "code",
   "execution_count": 13,
   "id": "07ebb6e3",
   "metadata": {},
   "outputs": [
    {
     "name": "stdout",
     "output_type": "stream",
     "text": [
      "For n_clusters = 9 The average silhouette_score is :0.3603957957104274\n",
      "For n_clusters = 10 The average silhouette_score is :0.3767604990608886\n",
      "For n_clusters = 11 The average silhouette_score is :0.3603200435395203\n",
      "For n_clusters = 12 The average silhouette_score is :0.5645618435741473\n",
      "For n_clusters = 13 The average silhouette_score is :0.4737643761401529\n",
      "For n_clusters = 14 The average silhouette_score is :0.5388261706914521\n",
      "For n_clusters = 15 The average silhouette_score is :0.3981414034806734\n",
      "For n_clusters = 16 The average silhouette_score is :0.43275525189530006\n",
      "For n_clusters = 17 The average silhouette_score is :0.3241238588980638\n"
     ]
    },
    {
     "data": {
      "image/png": "[encoded data removed]",
      "text/plain": [
       "<Figure size 640x480 with 1 Axes>"
      ]
     },
     "metadata": {},
     "output_type": "display_data"
    }
   ],
   "source": [
    "sse = {}\n",
    "for k in range(9, 18):\n",
    "    kmeans = KMeans(n_clusters=k, max_iter=300, n_init=10, random_state=0)\n",
    "    kmeans.fit(listFlattenedScale)\n",
    "    clusters = kmeans.fit_predict(listFlattenedScale)\n",
    "    silhouette_avg = silhouette_score(listFlattenedScale, clusters)\n",
    "    print(f\"For n_clusters = {k} The average silhouette_score is :{silhouette_avg}\")\n",
    "#     print(kmeans.labels_)\n",
    "    sse[k] = kmeans.inertia_\n",
    "plt.figure()\n",
    "plt.plot(list(sse.keys()), list(sse.values()))\n",
    "plt.xlabel(\"Number of cluster\")\n",
    "plt.ylabel(\"SSE\")\n",
    "plt.show()"
   ]
  },
  {
   "cell_type": "markdown",
   "id": "996b1e66",
   "metadata": {},
   "source": [
    "Let's try to find the total value counts on our 12 different cluster prediction. Here I found that our model is inclied to the cluster_0 and cluster_1 only, Other clusters doesn't have much images in it. It means Kmeans algorithm is not able to perform as per the expectations."
   ]
  },
  {
   "cell_type": "code",
   "execution_count": 30,
   "id": "730073b9",
   "metadata": {},
   "outputs": [
    {
     "name": "stdout",
     "output_type": "stream",
     "text": [
      "0     13859\n",
      "1      1118\n",
      "2         7\n",
      "11        7\n",
      "8         2\n",
      "3         1\n",
      "4         1\n",
      "5         1\n",
      "6         1\n",
      "7         1\n",
      "9         1\n",
      "10        1\n",
      "dtype: int64\n"
     ]
    }
   ],
   "source": [
    "kmeans = KMeans(n_clusters=12, max_iter=300, n_init=10, random_state=0)\n",
    "clusters = kmeans.fit_predict(listFlattenedScale)\n",
    "print(pd.DataFrame(clusters).value_counts())"
   ]
  },
  {
   "cell_type": "markdown",
   "id": "b39dba60",
   "metadata": {},
   "source": [
    "### Conclusion:-\n",
    "As per the data analysis on the csv file, we have observed that this dataset has 15 unique values which means our model should able to define 15 distinct clusters while as per the silhouetter score it seems our model is able distinguish the images into 12 clusters. As per these results, I can say that K-means is not the perfect choice to deal with chienese_mnist dataset, Deep adaptive clustering(deep learning method) could be the better approach to cluster the image dataset."
   ]
  },
  {
   "cell_type": "markdown",
   "id": "eaaa6932",
   "metadata": {},
   "source": [
    "### Experiment\n",
    "Here I have tried cluster the images with Clustimage() package, It uses the agglomerative clustering (not kmeans). In agglomerative clustering algorithm can stop at any number of clusters, if it find appropriate by interpreting the dendrogram. Using this method we get the 10 clusters on silhouette evaluation."
   ]
  },
  {
   "cell_type": "code",
   "execution_count": 33,
   "id": "785e92bd",
   "metadata": {},
   "outputs": [
    {
     "name": "stderr",
     "output_type": "stream",
     "text": [
      "[clustimage] >INFO> Cleaning previous fitted model results\n",
      "[clustimage] >INFO> Reading and checking images.\n",
      "[clustimage] >INFO> Scaling images..\n",
      "[clustimage] >INFO> Writing images to tempdir [C:\\Users\\Jemin\\AppData\\Local\\Temp\\clustimage]\n",
      "100%|███████████████████████████████████████████████████████████████████████████| 15000/15000 [00:21<00:00, 703.74it/s]\n",
      "[clustimage] >INFO> Extracting features using method: [pca]\n"
     ]
    },
    {
     "name": "stdout",
     "output_type": "stream",
     "text": [
      "[pca] >Column labels are auto-completed.\n",
      "[pca] >The PCA reduction is performed to capture [95.0%] explained variance using the [4096] columns of the input data.\n",
      "[pca] >Fit using PCA.\n",
      "[pca] >Compute loadings and PCs.\n",
      "[pca] >Compute explained variance.\n",
      "[pca] >Number of components is [943] that covers the [95.00%] explained variance.\n",
      "[pca] >The PCA reduction is performed on the [4096] columns of the input dataframe.\n",
      "[pca] >Fit using PCA.\n",
      "[pca] >Compute loadings and PCs.\n"
     ]
    },
    {
     "name": "stderr",
     "output_type": "stream",
     "text": [
      "[clustimage] >INFO> Extracted features using [pca]: samples=15000, features=943\n",
      "[clustimage] >INFO> Compute [tsne] embedding\n",
      "[clustimage] >INFO> Cluster evaluation using the [high] feature space of the [pca] features.\n"
     ]
    },
    {
     "name": "stdout",
     "output_type": "stream",
     "text": [
      "\n",
      "[clusteval] >Fit using agglomerative with metric: euclidean, and linkage: ward\n",
      "[clusteval] >Evaluate using silhouette.\n"
     ]
    },
    {
     "name": "stderr",
     "output_type": "stream",
     "text": [
      "100%|██████████████████████████████████████████████████████████████████████████████████| 22/22 [06:06<00:00, 16.66s/it]\n",
      "[clustimage] >INFO> Updating cluster-labels and cluster-model based on the (15000, 943) feature-space.\n"
     ]
    },
    {
     "name": "stdout",
     "output_type": "stream",
     "text": [
      "[clusteval] >Compute dendrogram threshold.\n",
      "[clusteval] >Optimal number clusters detected: [3].\n",
      "[clusteval] >Fin.\n"
     ]
    },
    {
     "name": "stderr",
     "output_type": "stream",
     "text": [
      "[clustimage] >INFO> filepath is set to [C:\\Users\\Jemin\\AppData\\Local\\Temp\\clustimage]\n",
      "[clustimage] >INFO> filepath is set to [C:\\Users\\Jemin\\AppData\\Local\\Temp\\clustimage]\n",
      "[clustimage] >INFO> filepath is set to [C:\\Users\\Jemin\\AppData\\Local\\Temp\\clustimage]\n",
      "[clustimage] >INFO> Cleaning previous fitted model results\n",
      "[clustimage] >INFO> Reading and checking images.\n",
      "[clustimage] >INFO> Scaling images..\n",
      "[clustimage] >INFO> Writing images to tempdir [C:\\Users\\Jemin\\AppData\\Local\\Temp\\clustimage]\n",
      "100%|███████████████████████████████████████████████████████████████████████████| 15000/15000 [00:20<00:00, 725.92it/s]\n",
      "[clustimage] >INFO> Extracting features using method: [pca]\n"
     ]
    },
    {
     "name": "stdout",
     "output_type": "stream",
     "text": [
      "[pca] >Column labels are auto-completed.\n",
      "[pca] >The PCA reduction is performed to capture [95.0%] explained variance using the [4096] columns of the input data.\n",
      "[pca] >Fit using PCA.\n",
      "[pca] >Compute loadings and PCs.\n",
      "[pca] >Compute explained variance.\n",
      "[pca] >Number of components is [943] that covers the [95.00%] explained variance.\n",
      "[pca] >The PCA reduction is performed on the [4096] columns of the input dataframe.\n",
      "[pca] >Fit using PCA.\n",
      "[pca] >Compute loadings and PCs.\n"
     ]
    },
    {
     "name": "stderr",
     "output_type": "stream",
     "text": [
      "[clustimage] >INFO> Extracted features using [pca]: samples=15000, features=943\n",
      "[clustimage] >INFO> Compute [tsne] embedding\n",
      "[clustimage] >INFO> Cluster evaluation using the [high] feature space of the [pca] features.\n"
     ]
    },
    {
     "name": "stdout",
     "output_type": "stream",
     "text": [
      "\n",
      "[clusteval] >Fit using agglomerative with metric: euclidean, and linkage: ward\n",
      "[clusteval] >Evaluate using silhouette.\n"
     ]
    },
    {
     "name": "stderr",
     "output_type": "stream",
     "text": [
      "100%|██████████████████████████████████████████████████████████████████████████████████| 15/15 [03:22<00:00, 13.48s/it]\n",
      "[clustimage] >INFO> Updating cluster-labels and cluster-model based on the (15000, 943) feature-space.\n"
     ]
    },
    {
     "name": "stdout",
     "output_type": "stream",
     "text": [
      "[clusteval] >Compute dendrogram threshold.\n",
      "[clusteval] >Optimal number clusters detected: [10].\n",
      "[clusteval] >Fin.\n"
     ]
    }
   ],
   "source": [
    "# cl = Clustimage()\n",
    "# results = cl.fit_transform(listFlattenedScale)\n",
    "cl = Clustimage(method='pca')\n",
    "\n",
    "results = cl.fit_transform(listFlattenedScale, evaluate='silhouette', min_clust=10)"
   ]
  },
  {
   "cell_type": "markdown",
   "id": "582fad4d",
   "metadata": {},
   "source": [
    "Here I have plot the unique sample values from all 10 clusters."
   ]
  },
  {
   "cell_type": "code",
   "execution_count": 34,
   "id": "c5882547",
   "metadata": {},
   "outputs": [
    {
     "name": "stdout",
     "output_type": "stream",
     "text": [
      "[10940, 14477, 2294, 5375, 11931, 7927, 6466, 9992, 14541, 2971]\n"
     ]
    },
    {
     "data": {
      "image/png": "[encoded data removed]",
      "text/plain": [
       "<Figure size 1200x1200 with 10 Axes>"
      ]
     },
     "metadata": {},
     "output_type": "display_data"
    }
   ],
   "source": [
    "unique_samples = cl.unique()\n",
    "X = listImageArray\n",
    "# print(unique_samples.keys())\n",
    "print(unique_samples['idx'])\n",
    "\n",
    "X = X[unique_samples['idx'],:]\n",
    "# Value = listImageNameArray[unique_samples['idx']]\n",
    "\n",
    "_, axs = plt.subplots(1, len(X), figsize=(12, 12))\n",
    "axs = axs.flatten()\n",
    "for i, ax in enumerate(axs):\n",
    "    try:\n",
    "#         ax.set_title(str(Value[i]))\n",
    "        ax.imshow(X[i])\n",
    "    except IndexError:\n",
    "        pass"
   ]
  }
 ],
 "metadata": {
  "kernelspec": {
   "display_name": "Python 3 (ipykernel)",
   "language": "python",
   "name": "python3"
  },
  "language_info": {
   "codemirror_mode": {
    "name": "ipython",
    "version": 3
   },
   "file_extension": ".py",
   "mimetype": "text/x-python",
   "name": "python",
   "nbconvert_exporter": "python",
   "pygments_lexer": "ipython3",
   "version": "3.10.5"
  }
 },
 "nbformat": 4,
 "nbformat_minor": 5
}
